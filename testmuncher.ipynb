{
 "cells": [
  {
   "cell_type": "markdown",
   "metadata": {},
   "source": [
    "pip installs"
   ]
  },
  {
   "cell_type": "code",
   "execution_count": 1,
   "metadata": {},
   "outputs": [],
   "source": [
    "#pip install requests"
   ]
  },
  {
   "cell_type": "markdown",
   "metadata": {},
   "source": [
    "imports"
   ]
  },
  {
   "cell_type": "code",
   "execution_count": 76,
   "metadata": {},
   "outputs": [],
   "source": [
    "import pandas as pd\n",
    "import numpy as np\n",
    "import matplotlib.pyplot as plt\n",
    "# from sklearn.preprocessing import StandardScaler, LabelEncoder\n",
    "# from sklearn.model_selection import train_test_split \n",
    "# from sklearn import datasets, tree\n",
    "# from sklearn.tree import DecisionTreeClassifier\n",
    "# from sklearn.ensemble import RandomForestClassifier\n",
    "# from sklearn.metrics import accuracy_score, recall_score, precision_score\n",
    "%matplotlib inline\n",
    "import plotly.graph_objects as go\n",
    "import plotly.io as pio  # me permite dibujar en un notebook\n",
    "pio.renderers.default = \"notebook\"  # me permite dibujar en un notebook\n",
    "import plotly.express as px\n",
    "import plotly.figure_factory as ff\n",
    "# from sklearn.neighbors import KNeighborsClassifier\n",
    "# from sklearn.model_selection import GridSearchCV\n",
    "from plotly.subplots import make_subplots\n",
    "import plotly.graph_objects as go\n",
    "import itertools\n",
    "import requests\n",
    "import os\n",
    "from collections import Counter"
   ]
  },
  {
   "cell_type": "markdown",
   "metadata": {},
   "source": [
    "load/write labels and parameters"
   ]
  },
  {
   "cell_type": "code",
   "execution_count": 77,
   "metadata": {},
   "outputs": [],
   "source": [
    "\n",
    "data_start_label='Parameter'\n",
    "Parameter_data_rows = ['Unit','HighL','LowL','Tests#','Patterns']\n",
    "HardBinDictName='HardBinName'\n",
    "SoftBinDictName='SoftBinName'\n",
    "header_rows_drop = 4\n",
    "datatypes_per_unit = {\n",
    "    'VOLTS':'float64',\n",
    "    'Ohms':'float64',\n",
    "    'V':'float64',\n",
    "    'uSECONDS':'float64',\n",
    "    'mAMPS':'float64',\n",
    "    ' ':'float64',\n",
    "    'code':'int64',\n",
    "    'C':'float64',\n",
    "    'LSB':'float64',\n",
    "    'deg':'float64',\n",
    "    'PF':'float64',\n",
    "    'KHERTZ':'float64',\n",
    "    'MHERTZ':'float64',\n",
    "    'KkHz':'float64',\n",
    "    '%':'float64',\n",
    "    'uAMPS':'float64',\n",
    "    'nnA':'float64',\n",
    "    'nAMPS':'float64'}\n",
    "testdatacols=[' SBIN','HBIN','DIE_X','DIE_Y','SITE','TIME','TOTAL_TESTS','LOT_ID','WAFER_ID']\n",
    "confdict={'data_start_label':data_start_label,'Parameter_data_rows':Parameter_data_rows,'testdatacols':testdatacols,'HardBinDictName':HardBinDictName,'SoftBinDictName':SoftBinDictName,'datatypes_per_unit':datatypes_per_unit}\n",
    "\n"
   ]
  },
  {
   "cell_type": "markdown",
   "metadata": {},
   "source": [
    "Load csv\n",
    "generate df with data\n",
    "generate HardBinDict\n",
    "generate SoftBinDict\n",
    "generate general_data"
   ]
  },
  {
   "cell_type": "code",
   "execution_count": 115,
   "metadata": {},
   "outputs": [],
   "source": [
    "def load_data (_file_location, _confdict):\n",
    "    _rawdf = pd.read_csv(_file_location)  # carga csv\n",
    "    #future adding exceptions for cases like no string match as \"Parameter\" to handle and track code breakdown\n",
    "    _data_start_col_value=(_rawdf.iloc[:,0]==_confdict.get('data_start_label')).idxmax()+1  # search for label in table data start\n",
    "    _df = _rawdf.drop(_rawdf.index[:_data_start_col_value])\n",
    "    _df.columns=_rawdf.iloc[_data_start_col_value-1]\n",
    "    _df.set_index(data_start_label,inplace=True)\n",
    "    _df.columns.name='Tests'\n",
    "    # _df = pd.read_csv(_file_location, header=_data_start_col_value, index_col=_confdict.get('data_start_label'))  # load table data from csv into df\n",
    "    _df.drop(columns=_df.columns[-1], axis=1, inplace=True) #extra column without data\n",
    "\n",
    "    #separate testdata and parameter data (might get input to make this optional)\n",
    "    _dftestdata = _df[_confdict.get('testdatacols')].drop(_confdict.get('Parameter_data_rows')).astype({' SBIN':'int','HBIN':'int'})\n",
    "    _df.drop(columns=_confdict.get('testdatacols'), inplace=True)\n",
    "    _dfpardata=_df.loc[_confdict.get('Parameter_data_rows')]\n",
    "    _df.drop(_confdict.get('Parameter_data_rows'), inplace=True)\n",
    "    _df.reset_index(drop=True)\n",
    "    #_dfpardata.loc['Unit'].replace(confdict.get('datatypes_per_unit'))\n",
    "\n",
    "    # \n",
    "    _rawdf = _rawdf.head(_data_start_col_value-1)  # drop table data\n",
    "    _rawdf = _rawdf.tail(-header_rows_drop)  # drop 4 rows from the header\n",
    "    _HardBinDict = (_rawdf[_rawdf.iloc[:,0]==_confdict.get('HardBinDictName')].iloc[:,[1,2]])\n",
    "    _HardBinDict = _HardBinDict.set_index(_HardBinDict.iloc[:, 0]).iloc[:,1]\n",
    "    _HardBinDict = _HardBinDict.to_dict()\n",
    "    _SoftBinDict = (_rawdf[_rawdf.iloc[:,0]==_confdict.get('SoftBinDictName')].iloc[:,[1,2]])\n",
    "    _SoftBinDict = _SoftBinDict.set_index(_SoftBinDict.iloc[:, 0]).iloc[:,1]\n",
    "    _SoftBinDict = _SoftBinDict.to_dict()\n",
    "    _rawdf = _rawdf[(_rawdf.iloc[:,0]!=_confdict.get('HardBinDictName'))&(_rawdf.iloc[:,0]!=_confdict.get('SoftBinDictName'))]  # drop softbin and hardbin\n",
    "    _rawdf.dropna(how='all')\n",
    "    _general_data = _rawdf.iloc[:,[0,1]]  # global data extracted by position\n",
    "    _general_data = _general_data.set_index(_general_data.iloc[:, 0]).iloc[:,1]\n",
    "    _general_data = _general_data.to_dict()\n",
    "\n",
    "    # input corrections\n",
    "    _dfpardata['HSR_SMM ANGLE_D1']['Unit'] = 'deg'  # unit is \"code\" and should be \"deg\"\n",
    "    _dfpardata['HSR_SMM ANGLE_D2']['Unit'] = 'deg'  # unit is \"code\" and should be \"deg\"\n",
    "    _df = _df.replace(r'^\\s*$', np.NaN, regex=True)  # if a chip blows, no further testing is done and a space char is placed instead of a value, cannot use np.NaN for int dtypes\n",
    "    _dfdropped = _df[_df.isna().any(axis=1)].astype('float')\n",
    "    _df.dropna(inplace=True)  # not reindexed\n",
    "    _coldtypes=_dfpardata.loc['Unit'].replace(_confdict.get('datatypes_per_unit')).fillna('float64').to_dict()  # if no unit is stated defaults to float dtype as there are many non integers\n",
    "    _df = _df.astype(_coldtypes)\n",
    "\n",
    "    return (_df, _general_data,_dfpardata,_dftestdata, _HardBinDict, _SoftBinDict, _dfdropped)"
   ]
  },
  {
   "cell_type": "code",
   "execution_count": 140,
   "metadata": {},
   "outputs": [],
   "source": [
    "def findfaultedmeas (_df, _lims):\n",
    "    _dffaultedHi = _df.gt(_lims.loc['HighL'], axis=1)\n",
    "    _dffaultedLo = _df.lt(_lims.loc['LowL'], axis=1)\n",
    "    s=_dffaultedHi.stack()\n",
    "    s=s[s].index.tolist()\n",
    "    faultedvalues= [res + ('Hi',) for res in s]\n",
    "    s=_dffaultedLo.stack()\n",
    "    s=s[s].index.tolist()\n",
    "    faultedvalues= faultedvalues + [res + ('Lo',) for res in s]\n",
    "    return(faultedvalues)\n",
    "    "
   ]
  },
  {
   "cell_type": "code",
   "execution_count": 116,
   "metadata": {},
   "outputs": [],
   "source": [
    "file_location1 = \"C:/Users/ggrinberg/AllegroMicro/33022D Notebook - Qual Results/STR6129/RAW_DATA/X_HBM/CSV/1-126/QR6129X1.csv\"  #\"C:/Users/ggrinberg/Downloads/QR6129X1.csv\"\n",
    "file_location2 = \"C:/Users/ggrinberg/AllegroMicro/33022D Notebook - Qual Results/STR6129/RAW_DATA/X_HBM/CSV/1-126/QH6129X2.csv\"\n",
    "file_location3 = \"C:/Users/ggrinberg/Downloads/QR6129X3.csv\"\n",
    "file_location4 = \"C:/Users/ggrinberg/Downloads/QH6129X4.csv\"\n",
    "(df1, general_data1 ,dfpardata1, dftestdata1, HardBinDict, SoftBinDict, df1dropped) = load_data (file_location1, confdict)\n",
    "(df2, general_data2 ,dfpardata2, dftestdata2, HardBinDict, SoftBinDict, df2dropped) = load_data (file_location2, confdict)\n",
    "(df3, general_data3 ,dfpardata3, dftestdata3, HardBinDict, SoftBinDict, df3dropped) = load_data (file_location3, confdict)\n",
    "(df4, general_data4 ,dfpardata4, dftestdata4, HardBinDict, SoftBinDict, df4dropped) = load_data (file_location4, confdict)"
   ]
  },
  {
   "cell_type": "code",
   "execution_count": 141,
   "metadata": {},
   "outputs": [],
   "source": [
    "Lims1=dfpardata1.loc[['LowL','HighL']].astype('float')\n",
    "Lims2=dfpardata2.loc[['LowL','HighL']].astype('float')\n",
    "Lims3=dfpardata3.loc[['LowL','HighL']].astype('float')\n",
    "Lims4=dfpardata4.loc[['LowL','HighL']].astype('float')"
   ]
  },
  {
   "cell_type": "code",
   "execution_count": 143,
   "metadata": {},
   "outputs": [
    {
     "data": {
      "text/html": [
       "<div>\n",
       "<style scoped>\n",
       "    .dataframe tbody tr th:only-of-type {\n",
       "        vertical-align: middle;\n",
       "    }\n",
       "\n",
       "    .dataframe tbody tr th {\n",
       "        vertical-align: top;\n",
       "    }\n",
       "\n",
       "    .dataframe thead th {\n",
       "        text-align: right;\n",
       "    }\n",
       "</style>\n",
       "<table border=\"1\" class=\"dataframe\">\n",
       "  <thead>\n",
       "    <tr style=\"text-align: right;\">\n",
       "      <th>Tests</th>\n",
       "      <th>VCC1 OS Pre_D1</th>\n",
       "      <th>VCC1 OS Pre_D2</th>\n",
       "      <th>PWM OS Pre_D1</th>\n",
       "      <th>PWM OS Pre_D2</th>\n",
       "      <th>CSN OS Pre_D1</th>\n",
       "      <th>CSN OS Pre_D2</th>\n",
       "      <th>SCLK OS Pre_D1</th>\n",
       "      <th>SCLK OS Pre_D2</th>\n",
       "      <th>MOSI OS Pre_D1</th>\n",
       "      <th>MOSI OS Pre_D2</th>\n",
       "      <th>...</th>\n",
       "      <th>MOSI OS Pre_D1</th>\n",
       "      <th>MOSI OS Pre_D2</th>\n",
       "      <th>MISO OS Pre_D1</th>\n",
       "      <th>MISO OS Pre_D2</th>\n",
       "      <th>AU OS Pre_D1</th>\n",
       "      <th>AU OS Pre_D2</th>\n",
       "      <th>BV OS Pre_D1</th>\n",
       "      <th>BV OS Pre_D2</th>\n",
       "      <th>IW OS Pre_D1</th>\n",
       "      <th>IW OS Pre_D2</th>\n",
       "    </tr>\n",
       "    <tr>\n",
       "      <th>Parameter</th>\n",
       "      <th></th>\n",
       "      <th></th>\n",
       "      <th></th>\n",
       "      <th></th>\n",
       "      <th></th>\n",
       "      <th></th>\n",
       "      <th></th>\n",
       "      <th></th>\n",
       "      <th></th>\n",
       "      <th></th>\n",
       "      <th></th>\n",
       "      <th></th>\n",
       "      <th></th>\n",
       "      <th></th>\n",
       "      <th></th>\n",
       "      <th></th>\n",
       "      <th></th>\n",
       "      <th></th>\n",
       "      <th></th>\n",
       "      <th></th>\n",
       "      <th></th>\n",
       "    </tr>\n",
       "  </thead>\n",
       "  <tbody>\n",
       "    <tr>\n",
       "      <th>LowL</th>\n",
       "      <td>NaN</td>\n",
       "      <td>NaN</td>\n",
       "      <td>-1.5</td>\n",
       "      <td>-1.5</td>\n",
       "      <td>-1.5</td>\n",
       "      <td>-1.5</td>\n",
       "      <td>-1.5</td>\n",
       "      <td>-1.5</td>\n",
       "      <td>-1.5</td>\n",
       "      <td>-1.5</td>\n",
       "      <td>...</td>\n",
       "      <td>-1.5</td>\n",
       "      <td>-1.5</td>\n",
       "      <td>-1.5</td>\n",
       "      <td>-1.5</td>\n",
       "      <td>-1.5</td>\n",
       "      <td>-1.5</td>\n",
       "      <td>-1.5</td>\n",
       "      <td>-1.5</td>\n",
       "      <td>-1.5</td>\n",
       "      <td>-1.5</td>\n",
       "    </tr>\n",
       "    <tr>\n",
       "      <th>HighL</th>\n",
       "      <td>-18.0</td>\n",
       "      <td>-18.0</td>\n",
       "      <td>-0.1</td>\n",
       "      <td>-0.1</td>\n",
       "      <td>-0.1</td>\n",
       "      <td>-0.1</td>\n",
       "      <td>-0.1</td>\n",
       "      <td>-0.1</td>\n",
       "      <td>-0.1</td>\n",
       "      <td>-0.1</td>\n",
       "      <td>...</td>\n",
       "      <td>-0.1</td>\n",
       "      <td>-0.1</td>\n",
       "      <td>-0.1</td>\n",
       "      <td>-0.1</td>\n",
       "      <td>-0.1</td>\n",
       "      <td>-0.1</td>\n",
       "      <td>-0.1</td>\n",
       "      <td>-0.1</td>\n",
       "      <td>-0.1</td>\n",
       "      <td>-0.1</td>\n",
       "    </tr>\n",
       "  </tbody>\n",
       "</table>\n",
       "<p>2 rows × 825 columns</p>\n",
       "</div>"
      ],
      "text/plain": [
       "Tests      VCC1 OS Pre_D1  VCC1 OS Pre_D2  PWM OS Pre_D1  PWM OS Pre_D2  \\\n",
       "Parameter                                                                 \n",
       "LowL                  NaN             NaN           -1.5           -1.5   \n",
       "HighL               -18.0           -18.0           -0.1           -0.1   \n",
       "\n",
       "Tests      CSN OS Pre_D1  CSN OS Pre_D2  SCLK OS Pre_D1  SCLK OS Pre_D2  \\\n",
       "Parameter                                                                 \n",
       "LowL                -1.5           -1.5            -1.5            -1.5   \n",
       "HighL               -0.1           -0.1            -0.1            -0.1   \n",
       "\n",
       "Tests      MOSI OS Pre_D1  MOSI OS Pre_D2  ...  MOSI OS Pre_D1  \\\n",
       "Parameter                                  ...                   \n",
       "LowL                 -1.5            -1.5  ...            -1.5   \n",
       "HighL                -0.1            -0.1  ...            -0.1   \n",
       "\n",
       "Tests      MOSI OS Pre_D2  MISO OS Pre_D1  MISO OS Pre_D2  AU OS Pre_D1  \\\n",
       "Parameter                                                                 \n",
       "LowL                 -1.5            -1.5            -1.5          -1.5   \n",
       "HighL                -0.1            -0.1            -0.1          -0.1   \n",
       "\n",
       "Tests      AU OS Pre_D2  BV OS Pre_D1  BV OS Pre_D2  IW OS Pre_D1  \\\n",
       "Parameter                                                           \n",
       "LowL               -1.5          -1.5          -1.5          -1.5   \n",
       "HighL              -0.1          -0.1          -0.1          -0.1   \n",
       "\n",
       "Tests      IW OS Pre_D2  \n",
       "Parameter                \n",
       "LowL               -1.5  \n",
       "HighL              -0.1  \n",
       "\n",
       "[2 rows x 825 columns]"
      ]
     },
     "execution_count": 143,
     "metadata": {},
     "output_type": "execute_result"
    }
   ],
   "source": [
    "Lims4"
   ]
  },
  {
   "cell_type": "code",
   "execution_count": 146,
   "metadata": {},
   "outputs": [
    {
     "data": {
      "text/plain": [
       "[('PID-113', 'Secondary Temp Sensor (25C)_D1', 'Hi'),\n",
       " ('PID-113', 'Secondary Temp Sensor (25C)_D2', 'Hi'),\n",
       " ('PID-113', 'PWM Leakage Current_D1', 'Hi'),\n",
       " ('PID-120', 'Secondary Temp Sensor (25C)_D1', 'Hi'),\n",
       " ('PID-120', 'Secondary Temp Sensor (25C)_D2', 'Hi'),\n",
       " ('PID-120', 'Icc_Hibernation_D1', 'Hi')]"
      ]
     },
     "execution_count": 146,
     "metadata": {},
     "output_type": "execute_result"
    }
   ],
   "source": [
    "findfaultedmeas(df3dropped,Lims3)"
   ]
  },
  {
   "cell_type": "markdown",
   "metadata": {},
   "source": [
    "hay columnas con mediciones repetidas pero valores distintos"
   ]
  },
  {
   "cell_type": "code",
   "execution_count": 59,
   "metadata": {},
   "outputs": [
    {
     "name": "stdout",
     "output_type": "stream",
     "text": [
      "hay 61 mediciones repetidas, chequear con pato\n"
     ]
    }
   ],
   "source": [
    "#df1.columns\n",
    "measures = Counter(dfpardata1.columns.to_list())\n",
    "result = [_key for _key, _value in measures.items () if _value != 1]\n",
    "print(f\"there are {len(result)} repeated measurements, check result contents\")"
   ]
  },
  {
   "cell_type": "code",
   "execution_count": 55,
   "metadata": {},
   "outputs": [
    {
     "name": "stdout",
     "output_type": "stream",
     "text": [
      "there are 87 of 801 measurements which are not in the 4 datasets, most are temperature related, check with pato \n"
     ]
    }
   ],
   "source": [
    "#print(f\"blank cells filled with{df3['SENT Trigger Threshold L Code 0_D1']['PID-120']}\")  # check how an empty cell is filled  # commented as rows now dropped, info in testdata/HardBin\n",
    "measures = Counter(dfpardata1.columns.to_list()+dfpardata2.columns.to_list()+dfpardata3.columns.to_list()+dfpardata4.columns.to_list())\n",
    "result = [_key for _key, _value in measures.items () if _value%4 != 0]\n",
    "print(f\"there are {len(result)} of {len(measures)} measurements which are not in the 4 datasets, most are temperature related, check with pato the columns in result var\")"
   ]
  },
  {
   "cell_type": "code",
   "execution_count": 66,
   "metadata": {},
   "outputs": [
    {
     "data": {
      "text/plain": [
       "136"
      ]
     },
     "execution_count": 66,
     "metadata": {},
     "output_type": "execute_result"
    }
   ],
   "source": [
    "df1.shape[0]"
   ]
  },
  {
   "cell_type": "code",
   "execution_count": 69,
   "metadata": {},
   "outputs": [
    {
     "name": "stdout",
     "output_type": "stream",
     "text": [
      "mediciones fuera de limites para df1 en %\n",
      "Tests\n",
      "Secondary Temp Sensor (25C)_D1    100.000000\n",
      "Secondary Temp Sensor (25C)_D2    100.000000\n",
      "Primary Temp Sensor (25C)_D2        4.411765\n",
      "HSR_SMM_D2                          3.676471\n",
      "HSR_SMM_D1                          2.941176\n",
      "dtype: float64\n"
     ]
    }
   ],
   "source": [
    "Lims1=dfpardata1.loc[['LowL','HighL']].astype('float')\n",
    "faulted_by_param = (df1.gt(Lims1.loc['HighL'], axis=1) | df1.lt(Lims1.loc['LowL'], axis=1))\n",
    "print('mediciones fuera de limites para df1 en %')\n",
    "print(faulted_by_param.sum()[faulted_by_param.any()].sort_values(ascending=False).head(10)/df1.shape[0]*100)  # secondary temp sensor has ill defined thresholds"
   ]
  },
  {
   "cell_type": "code",
   "execution_count": 71,
   "metadata": {},
   "outputs": [
    {
     "name": "stdout",
     "output_type": "stream",
     "text": [
      "mediciones fuera de limites para df2 en %\n",
      "Tests\n",
      "IWRevZen_D2    50.735294\n",
      "dtype: float64\n"
     ]
    }
   ],
   "source": [
    "Lims2=dfpardata2.loc[['LowL','HighL']].astype('float')\n",
    "faulted_by_param = (df2.gt(Lims2.loc['HighL'], axis=1) | df2.lt(Lims2.loc['LowL'], axis=1))\n",
    "print('mediciones fuera de limites para df2 en %')\n",
    "print(faulted_by_param.sum()[faulted_by_param.any()].sort_values(ascending=False).head(10)/df1.shape[0]*100) "
   ]
  },
  {
   "cell_type": "code",
   "execution_count": 70,
   "metadata": {},
   "outputs": [
    {
     "name": "stdout",
     "output_type": "stream",
     "text": [
      "mediciones fuera de limites para df3 en %\n",
      "Tests\n",
      "Secondary Temp Sensor (25C)_D1    91.176471\n",
      "Secondary Temp Sensor (25C)_D2    91.176471\n",
      "HSR_SMM_D2                         3.676471\n",
      "HSR_SMM_D1                         2.941176\n",
      "Primary Temp Sensor (25C)_D1       1.470588\n",
      "Primary Temp Sensor (25C)_D2       1.470588\n",
      "dtype: float64\n"
     ]
    }
   ],
   "source": [
    "Lims3=dfpardata3.loc[['LowL','HighL']].astype('float')\n",
    "faulted_by_param = (df3.gt(Lims3.loc['HighL'], axis=1) | df3.lt(Lims3.loc['LowL'], axis=1))\n",
    "print('mediciones fuera de limites para df3 en %')\n",
    "print(faulted_by_param.sum()[faulted_by_param.any()].sort_values(ascending=False).head(10)/df1.shape[0]*100)  # secondary temp sensor has ill defined thresholds"
   ]
  },
  {
   "cell_type": "code",
   "execution_count": 72,
   "metadata": {},
   "outputs": [
    {
     "name": "stdout",
     "output_type": "stream",
     "text": [
      "mediciones fuera de limites para df4 en %\n",
      "Tests\n",
      "IWRevZen_D2    47.058824\n",
      "dtype: float64\n"
     ]
    }
   ],
   "source": [
    "Lims4=dfpardata4.loc[['LowL','HighL']].astype('float')\n",
    "faulted_by_param = (df4.gt(Lims4.loc['HighL'], axis=1) | df4.lt(Lims4.loc['LowL'], axis=1))\n",
    "print('mediciones fuera de limites para df4 en %')\n",
    "print(faulted_by_param.sum()[faulted_by_param.any()].sort_values(ascending=False).head(10)/df1.shape[0]*100) "
   ]
  },
  {
   "cell_type": "code",
   "execution_count": 73,
   "metadata": {},
   "outputs": [
    {
     "data": {
      "text/plain": [
       "Tests\n",
       " SBIN           int32\n",
       "HBIN            int32\n",
       "DIE_X          object\n",
       "DIE_Y          object\n",
       "SITE           object\n",
       "TIME           object\n",
       "TOTAL_TESTS    object\n",
       "LOT_ID         object\n",
       "WAFER_ID       object\n",
       "dtype: object"
      ]
     },
     "execution_count": 73,
     "metadata": {},
     "output_type": "execute_result"
    }
   ],
   "source": [
    "dftestdata3.dtypes"
   ]
  },
  {
   "cell_type": "code",
   "execution_count": 102,
   "metadata": {},
   "outputs": [
    {
     "name": "stdout",
     "output_type": "stream",
     "text": [
      "mayor faults\n",
      "HBIN\n",
      "Good    124\n",
      "PWM       1\n",
      "SPI       1\n",
      "Name: count, dtype: int64\n",
      "faulted parts:['PID-113', 'PID-120']\n"
     ]
    }
   ],
   "source": [
    "print('mayor faults')\n",
    "print(dftestdata4['HBIN'].astype('str').replace(HardBinDict).value_counts())\n",
    "print(f\"faulted parts:{dftestdata4[dftestdata4['HBIN']!=1].index.tolist()}\")"
   ]
  },
  {
   "cell_type": "code",
   "execution_count": 90,
   "metadata": {},
   "outputs": [
    {
     "data": {
      "text/plain": [
       "['PID-113', 'PID-120']"
      ]
     },
     "execution_count": 90,
     "metadata": {},
     "output_type": "execute_result"
    }
   ],
   "source": [
    "dftestdata3[dftestdata3['HBIN']!=1].index.tolist()"
   ]
  },
  {
   "cell_type": "code",
   "execution_count": 113,
   "metadata": {},
   "outputs": [
    {
     "data": {
      "text/html": [
       "<div>\n",
       "<style scoped>\n",
       "    .dataframe tbody tr th:only-of-type {\n",
       "        vertical-align: middle;\n",
       "    }\n",
       "\n",
       "    .dataframe tbody tr th {\n",
       "        vertical-align: top;\n",
       "    }\n",
       "\n",
       "    .dataframe thead th {\n",
       "        text-align: right;\n",
       "    }\n",
       "</style>\n",
       "<table border=\"1\" class=\"dataframe\">\n",
       "  <thead>\n",
       "    <tr style=\"text-align: right;\">\n",
       "      <th>Tests</th>\n",
       "      <th>VCC1 OS Pre_D1</th>\n",
       "      <th>VCC1 OS Pre_D2</th>\n",
       "      <th>PWM OS Pre_D1</th>\n",
       "      <th>PWM OS Pre_D2</th>\n",
       "      <th>CSN OS Pre_D1</th>\n",
       "      <th>CSN OS Pre_D2</th>\n",
       "      <th>SCLK OS Pre_D1</th>\n",
       "      <th>SCLK OS Pre_D2</th>\n",
       "      <th>MOSI OS Pre_D1</th>\n",
       "      <th>MOSI OS Pre_D2</th>\n",
       "      <th>...</th>\n",
       "      <th>MOSI OS Pre_D1</th>\n",
       "      <th>MOSI OS Pre_D2</th>\n",
       "      <th>MISO OS Pre_D1</th>\n",
       "      <th>MISO OS Pre_D2</th>\n",
       "      <th>AU OS Pre_D1</th>\n",
       "      <th>AU OS Pre_D2</th>\n",
       "      <th>BV OS Pre_D1</th>\n",
       "      <th>BV OS Pre_D2</th>\n",
       "      <th>IW OS Pre_D1</th>\n",
       "      <th>IW OS Pre_D2</th>\n",
       "    </tr>\n",
       "    <tr>\n",
       "      <th>Parameter</th>\n",
       "      <th></th>\n",
       "      <th></th>\n",
       "      <th></th>\n",
       "      <th></th>\n",
       "      <th></th>\n",
       "      <th></th>\n",
       "      <th></th>\n",
       "      <th></th>\n",
       "      <th></th>\n",
       "      <th></th>\n",
       "      <th></th>\n",
       "      <th></th>\n",
       "      <th></th>\n",
       "      <th></th>\n",
       "      <th></th>\n",
       "      <th></th>\n",
       "      <th></th>\n",
       "      <th></th>\n",
       "      <th></th>\n",
       "      <th></th>\n",
       "      <th></th>\n",
       "    </tr>\n",
       "  </thead>\n",
       "  <tbody>\n",
       "    <tr>\n",
       "      <th>PID-113</th>\n",
       "      <td>-18.55769</td>\n",
       "      <td>-19.82925</td>\n",
       "      <td>-0.554847</td>\n",
       "      <td>-0.556102</td>\n",
       "      <td>-0.523255</td>\n",
       "      <td>-0.530546</td>\n",
       "      <td>-0.523180</td>\n",
       "      <td>-0.530359</td>\n",
       "      <td>-0.523105</td>\n",
       "      <td>-0.530827</td>\n",
       "      <td>...</td>\n",
       "      <td>NaN</td>\n",
       "      <td>NaN</td>\n",
       "      <td>NaN</td>\n",
       "      <td>NaN</td>\n",
       "      <td>NaN</td>\n",
       "      <td>NaN</td>\n",
       "      <td>NaN</td>\n",
       "      <td>NaN</td>\n",
       "      <td>NaN</td>\n",
       "      <td>NaN</td>\n",
       "    </tr>\n",
       "    <tr>\n",
       "      <th>PID-120</th>\n",
       "      <td>-18.57460</td>\n",
       "      <td>-19.80339</td>\n",
       "      <td>-0.558977</td>\n",
       "      <td>-0.560134</td>\n",
       "      <td>-0.533350</td>\n",
       "      <td>-0.535061</td>\n",
       "      <td>-0.533837</td>\n",
       "      <td>-0.535847</td>\n",
       "      <td>-0.533313</td>\n",
       "      <td>-0.536222</td>\n",
       "      <td>...</td>\n",
       "      <td>NaN</td>\n",
       "      <td>NaN</td>\n",
       "      <td>NaN</td>\n",
       "      <td>NaN</td>\n",
       "      <td>NaN</td>\n",
       "      <td>NaN</td>\n",
       "      <td>NaN</td>\n",
       "      <td>NaN</td>\n",
       "      <td>NaN</td>\n",
       "      <td>NaN</td>\n",
       "    </tr>\n",
       "  </tbody>\n",
       "</table>\n",
       "<p>2 rows × 812 columns</p>\n",
       "</div>"
      ],
      "text/plain": [
       "Tests      VCC1 OS Pre_D1  VCC1 OS Pre_D2  PWM OS Pre_D1  PWM OS Pre_D2  \\\n",
       "Parameter                                                                 \n",
       "PID-113         -18.55769       -19.82925      -0.554847      -0.556102   \n",
       "PID-120         -18.57460       -19.80339      -0.558977      -0.560134   \n",
       "\n",
       "Tests      CSN OS Pre_D1  CSN OS Pre_D2  SCLK OS Pre_D1  SCLK OS Pre_D2  \\\n",
       "Parameter                                                                 \n",
       "PID-113        -0.523255      -0.530546       -0.523180       -0.530359   \n",
       "PID-120        -0.533350      -0.535061       -0.533837       -0.535847   \n",
       "\n",
       "Tests      MOSI OS Pre_D1  MOSI OS Pre_D2  ...  MOSI OS Pre_D1  \\\n",
       "Parameter                                  ...                   \n",
       "PID-113         -0.523105       -0.530827  ...             NaN   \n",
       "PID-120         -0.533313       -0.536222  ...             NaN   \n",
       "\n",
       "Tests      MOSI OS Pre_D2  MISO OS Pre_D1  MISO OS Pre_D2  AU OS Pre_D1  \\\n",
       "Parameter                                                                 \n",
       "PID-113               NaN             NaN             NaN           NaN   \n",
       "PID-120               NaN             NaN             NaN           NaN   \n",
       "\n",
       "Tests      AU OS Pre_D2  BV OS Pre_D1  BV OS Pre_D2  IW OS Pre_D1  \\\n",
       "Parameter                                                           \n",
       "PID-113             NaN           NaN           NaN           NaN   \n",
       "PID-120             NaN           NaN           NaN           NaN   \n",
       "\n",
       "Tests      IW OS Pre_D2  \n",
       "Parameter                \n",
       "PID-113             NaN  \n",
       "PID-120             NaN  \n",
       "\n",
       "[2 rows x 812 columns]"
      ]
     },
     "execution_count": 113,
     "metadata": {},
     "output_type": "execute_result"
    }
   ],
   "source": [
    "df3dropped.astype('float')"
   ]
  },
  {
   "cell_type": "code",
   "execution_count": 118,
   "metadata": {},
   "outputs": [
    {
     "data": {
      "text/plain": [
       "Tests\n",
       "Secondary Temp Sensor (25C)_D1    2\n",
       "Secondary Temp Sensor (25C)_D2    2\n",
       "PWM Leakage Current_D1            1\n",
       "Icc_Hibernation_D1                1\n",
       "dtype: int64"
      ]
     },
     "execution_count": 118,
     "metadata": {},
     "output_type": "execute_result"
    }
   ],
   "source": [
    "Lims3=dfpardata3.loc[['LowL','HighL']].astype('float')\n",
    "df3faultedHi = df3dropped.gt(Lims3.loc['HighL'], axis=1)\n",
    "df3faultedHi.sum()[df3faultedHi.any()]"
   ]
  },
  {
   "cell_type": "code",
   "execution_count": 138,
   "metadata": {},
   "outputs": [
    {
     "data": {
      "text/plain": [
       "Series([], dtype: int64)"
      ]
     },
     "execution_count": 138,
     "metadata": {},
     "output_type": "execute_result"
    }
   ],
   "source": [
    "Lims4=dfpardata4.loc[['LowL','HighL']].astype('float')\n",
    "df4faultedLo = df4dropped.lt(Lims4.loc['LowL'], axis=1)\n",
    "df4faultedLo.sum()[df4faultedLo.any()]"
   ]
  },
  {
   "cell_type": "code",
   "execution_count": 135,
   "metadata": {},
   "outputs": [
    {
     "data": {
      "text/plain": [
       "[('PID-113', 'Secondary Temp Sensor (25C)_D1', 'Hi'),\n",
       " ('PID-113', 'Secondary Temp Sensor (25C)_D2', 'Hi'),\n",
       " ('PID-113', 'PWM Leakage Current_D1', 'Hi'),\n",
       " ('PID-120', 'Secondary Temp Sensor (25C)_D1', 'Hi'),\n",
       " ('PID-120', 'Secondary Temp Sensor (25C)_D2', 'Hi'),\n",
       " ('PID-120', 'Icc_Hibernation_D1', 'Hi')]"
      ]
     },
     "execution_count": 135,
     "metadata": {},
     "output_type": "execute_result"
    }
   ],
   "source": [
    "Lims3=dfpardata3.loc[['LowL','HighL']].astype('float')\n",
    "df3faultedHi = df3dropped.gt(Lims3.loc['HighL'], axis=1)\n",
    "df3faultedLo = df3dropped.lt(Lims3.loc['LowL'], axis=1)\n",
    "s=df3faultedHi.stack()\n",
    "s=s[s].index.tolist()\n",
    "faultedvalues= [res + ('Hi',) for res in s]\n",
    "s=df3faultedLo.stack()\n",
    "s=s[s].index.tolist()\n",
    "faultedvalues= faultedvalues + [res + ('Lo',) for res in s]\n",
    "faultedvalues"
   ]
  },
  {
   "cell_type": "code",
   "execution_count": 137,
   "metadata": {},
   "outputs": [
    {
     "data": {
      "text/plain": [
       "[('PID-113', 'PWM Leakage Current_D1', 'Hi'),\n",
       " ('PID-120', 'Icc_Hibernation_D1', 'Hi')]"
      ]
     },
     "execution_count": 137,
     "metadata": {},
     "output_type": "execute_result"
    }
   ],
   "source": [
    "Lims4=dfpardata4.loc[['LowL','HighL']].astype('float')\n",
    "df4faultedHi = df4dropped.gt(Lims4.loc['HighL'], axis=1)\n",
    "df4faultedLo = df4dropped.lt(Lims4.loc['LowL'], axis=1)\n",
    "s=df4faultedHi.stack()\n",
    "s=s[s].index.tolist()\n",
    "faultedvalues= [res + ('Hi',) for res in s]\n",
    "s=df4faultedLo.stack()\n",
    "s=s[s].index.tolist()\n",
    "faultedvalues= faultedvalues + [res + ('Lo',) for res in s]\n",
    "faultedvalues"
   ]
  },
  {
   "cell_type": "code",
   "execution_count": 133,
   "metadata": {},
   "outputs": [
    {
     "data": {
      "text/plain": [
       "[('PID-113', 'Secondary Temp Sensor (25C)_D1', 'Hi'),\n",
       " ('PID-113', 'Secondary Temp Sensor (25C)_D2', 'Hi'),\n",
       " ('PID-113', 'PWM Leakage Current_D1', 'Hi'),\n",
       " ('PID-120', 'Secondary Temp Sensor (25C)_D1', 'Hi'),\n",
       " ('PID-120', 'Secondary Temp Sensor (25C)_D2', 'Hi'),\n",
       " ('PID-120', 'Icc_Hibernation_D1', 'Hi')]"
      ]
     },
     "execution_count": 133,
     "metadata": {},
     "output_type": "execute_result"
    }
   ],
   "source": [
    "s=df3faultedHi.stack()\n",
    "s=s[s].index.tolist()\n",
    "faultedvalues= [res + ('Hi',) for res in s]\n",
    "faultedvalues"
   ]
  },
  {
   "cell_type": "code",
   "execution_count": 131,
   "metadata": {},
   "outputs": [
    {
     "data": {
      "text/plain": [
       "Parameter  Tests         \n",
       "PID-113    VCC1 OS Pre_D1    False\n",
       "           VCC1 OS Pre_D2    False\n",
       "           PWM OS Pre_D1     False\n",
       "           PWM OS Pre_D2     False\n",
       "           CSN OS Pre_D1     False\n",
       "                             ...  \n",
       "PID-120    AU OS Pre_D2      False\n",
       "           BV OS Pre_D1      False\n",
       "           BV OS Pre_D2      False\n",
       "           IW OS Pre_D1      False\n",
       "           IW OS Pre_D2      False\n",
       "Length: 1624, dtype: bool"
      ]
     },
     "execution_count": 131,
     "metadata": {},
     "output_type": "execute_result"
    }
   ],
   "source": [
    "s"
   ]
  },
  {
   "cell_type": "code",
   "execution_count": 87,
   "metadata": {},
   "outputs": [
    {
     "name": "stdout",
     "output_type": "stream",
     "text": [
      "13\n",
      "25\n"
     ]
    }
   ],
   "source": [
    "for index, row in dftestdata3.iterrows():\n",
    "    if row['HBIN']!=1:\n",
    "        print(row['HBIN'])"
   ]
  }
 ],
 "metadata": {
  "kernelspec": {
   "display_name": "Python 3",
   "language": "python",
   "name": "python3"
  },
  "language_info": {
   "codemirror_mode": {
    "name": "ipython",
    "version": 3
   },
   "file_extension": ".py",
   "mimetype": "text/x-python",
   "name": "python",
   "nbconvert_exporter": "python",
   "pygments_lexer": "ipython3",
   "version": "3.11.6"
  },
  "orig_nbformat": 4
 },
 "nbformat": 4,
 "nbformat_minor": 2
}
